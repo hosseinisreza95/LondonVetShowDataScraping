{
 "cells": [
  {
   "cell_type": "markdown",
   "metadata": {},
   "source": [
    "#1. Importing Necessary Libraries"
   ]
  },
  {
   "cell_type": "code",
   "execution_count": 1,
   "metadata": {},
   "outputs": [],
   "source": [
    "# Import necessary libraries\n",
    "import requests\n",
    "import pandas as pd\n",
    "from bs4 import BeautifulSoup\n",
    "\n",
    "# requests: to fetch the web page content.\n",
    "# pandas: to handle and save data in a structured format (Excel).\n",
    "# BeautifulSoup: to parse HTML and extract specific information from the page."
   ]
  },
  {
   "cell_type": "markdown",
   "metadata": {},
   "source": [
    "#2. Scraping Company Data"
   ]
  },
  {
   "cell_type": "code",
   "execution_count": null,
   "metadata": {},
   "outputs": [],
   "source": [
    "def scrape_company_data(base_url):\n",
    "    \"\"\"\n",
    "    This function scrapes company data from a given URL.\n",
    "    \n",
    "    Args:\n",
    "        base_url (str): The base URL of the website to scrape.\n",
    "    \n",
    "    Returns:\n",
    "        list: A list of dictionaries containing company details (name, description, and stand).\n",
    "    \"\"\"\n",
    "    # List to store all the scraped company data\n",
    "    all_companies_data = []\n",
    "    \n",
    "    # Start with the first page of companies\n",
    "    page_number = 1\n",
    "    \n",
    "    # Loop through all available pages until no more companies are found\n",
    "    while True:\n",
    "        # Construct the URL for the current page\n",
    "        url = f\"{base_url}?page={page_number}\"\n",
    "        response = requests.get(url)\n",
    "        \n",
    "        # Check if the page was fetched successfully\n",
    "        if response.status_code != 200:\n",
    "            print(f\"Failed to retrieve page {page_number}, status code: {response.status_code}\")\n",
    "            break\n",
    "        \n",
    "        # Parse the HTML content using BeautifulSoup\n",
    "        soup = BeautifulSoup(response.text, 'html.parser')\n",
    "        \n",
    "        # Find all the list items that contain company information\n",
    "        list_items = soup.find_all('li', class_='m-exhibitors-list__items__item')\n",
    "        \n",
    "        # If no more companies are found, stop scraping\n",
    "        if not list_items:\n",
    "            print(\"No more companies found, reached the last page.\")\n",
    "            break\n",
    "        \n",
    "        # Loop through each company item and extract the data\n",
    "        for item in list_items:\n",
    "            # Extract company name\n",
    "            name_tag = item.find('h2', class_='m-exhibitors-list__items__item__header__title')\n",
    "            name = name_tag.text.strip() if name_tag else \"No name available\"\n",
    "            \n",
    "            # Extract the stand information\n",
    "            stand_tag = item.find('div', class_='m-exhibitors-list__items__item__header__meta__stand')\n",
    "            stand = stand_tag.text.replace(\"Stand:\", \"\").strip() if stand_tag else \"No stand available\"\n",
    "            \n",
    "            # Extract company description\n",
    "            description_tag = item.find('div', class_='m-exhibitors-list__items__item__body__description')\n",
    "            description = description_tag.text.strip() if description_tag else \"No description available\"\n",
    "            \n",
    "            # Compile the extracted information into a dictionary\n",
    "            company_info = {\n",
    "                \"Name\": name,\n",
    "                \"Description\": description,\n",
    "                \"Stand\": stand\n",
    "            }\n",
    "            \n",
    "            # Append the company info to the list of all companies\n",
    "            all_companies_data.append(company_info)\n",
    "        \n",
    "        # Move to the next page\n",
    "        page_number += 1\n",
    "    \n",
    "    # Return the complete list of scraped companies\n",
    "    return all_companies_data\n",
    "\n",
    "# Base URL for scraping\n",
    "base_url = \"https://london.vetshow.com/exhibitor-list\"\n",
    "\n",
    "# Run the scraping function\n",
    "companies_data = scrape_company_data(base_url)"
   ]
  },
  {
   "cell_type": "markdown",
   "metadata": {},
   "source": [
    "#3. Saving the Data to Excel"
   ]
  },
  {
   "cell_type": "code",
   "execution_count": null,
   "metadata": {},
   "outputs": [],
   "source": [
    "def save_to_excel(data, filename):\n",
    "    \"\"\"\n",
    "    This function saves the scraped data into an Excel file.\n",
    "    \n",
    "    Args:\n",
    "        data (list): A list of dictionaries containing company details.\n",
    "        filename (str): The name of the output Excel file.\n",
    "    \"\"\"\n",
    "    # Convert the list of dictionaries to a Pandas DataFrame\n",
    "    df = pd.DataFrame(data)\n",
    "    \n",
    "    # Add an index starting from 1\n",
    "    df.index += 1\n",
    "    df.index.name = 'Index'\n",
    "    \n",
    "    # Save the DataFrame to an Excel file\n",
    "    df.to_excel(filename, index=True)\n",
    "\n",
    "# Save the scraped data to an Excel file named 'LondonVetShowData.xlsx'\n",
    "save_to_excel(companies_data, 'Output/LondonVetShowData.xlsx')\n",
    "\n",
    "print(\"Data collection complete. Saved to 'Output/LondonVetShowData.xlsx'.\")"
   ]
  }
 ],
 "metadata": {
  "kernelspec": {
   "display_name": "base",
   "language": "python",
   "name": "python3"
  },
  "language_info": {
   "codemirror_mode": {
    "name": "ipython",
    "version": 3
   },
   "file_extension": ".py",
   "mimetype": "text/x-python",
   "name": "python",
   "nbconvert_exporter": "python",
   "pygments_lexer": "ipython3",
   "version": "3.12.7"
  }
 },
 "nbformat": 4,
 "nbformat_minor": 2
}

