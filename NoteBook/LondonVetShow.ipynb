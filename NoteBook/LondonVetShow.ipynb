# Import necessary libraries
import requests
import pandas as pd
from bs4 import BeautifulSoup

# requests: to fetch the web page content.
# pandas: to handle and save data in a structured format (Excel).
# BeautifulSoup: to parse HTML and extract specific information from the page.

